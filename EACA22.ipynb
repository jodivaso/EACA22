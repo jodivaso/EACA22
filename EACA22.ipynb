{
 "cells": [
  {
   "cell_type": "code",
   "execution_count": 1,
   "metadata": {},
   "outputs": [],
   "source": [
    "from sage.interfaces.kenzo import *"
   ]
  },
  {
   "cell_type": "code",
   "execution_count": 3,
   "metadata": {},
   "outputs": [
    {
     "name": "stdout",
     "output_type": "stream",
     "text": [
      "__sphere__(2)\n",
      "__moore__(2,4)\n",
      "__k_z__(3)\n",
      "__k_z2__(3)\n",
      "__tnsr_prdc__(__sphere__(2),__sphere__(3))\n",
      "__loop_space__(__sphere__(2),1)\n",
      "__crts_prdc__(__sphere__(2),__sphere__(3))\n",
      "__suspension__(__k_z__(3))\n",
      "__wedge__(__sphere__(2),__sphere__(3))\n",
      "__join__(__sphere__(2),__sphere__(3))\n",
      "__smash_product__(__sphere__(2),__sphere__(3))\n",
      "__classifying_space__(__loop_space__(__sphere__(2),1))\n"
     ]
    }
   ],
   "source": [
    "# #Testing Sphere\n",
    "# s1= Sphere(2)\n",
    "# print(s1.orgn)\n",
    "\n",
    "# #Testing Moore space\n",
    "# m24 = MooreSpace(2,4)\n",
    "# print(m24.orgn)\n",
    "\n",
    "# #Testing EilenbergMacLaneSpace\n",
    "# e3 = EilenbergMacLaneSpace(ZZ, 3)\n",
    "# print(e3.orgn)\n",
    "\n",
    "# #Testing EilenbergMacLaneSpace\n",
    "# f3 = EilenbergMacLaneSpace(AdditiveAbelianGroup([2]), 3)\n",
    "# print(f3.orgn)\n",
    "\n",
    "# #Testing tensor product\n",
    "# s2 = Sphere(2)\n",
    "# s3 = Sphere(3)\n",
    "# p = s2.tensor_product(s3)\n",
    "# print(p.orgn)\n",
    "\n",
    "# #Testing loop space\n",
    "# l2 = s2.loop_space()\n",
    "# print(l2.orgn)\n",
    "\n",
    "# #Testing cartesian product\n",
    "# s2 = Sphere(2)\n",
    "# s3 = Sphere(3)\n",
    "# p = s2.cartesian_product(s3)\n",
    "# print(p.orgn)\n",
    "\n",
    "\n",
    "# #Testing Suspension\n",
    "# s = e3.suspension()\n",
    "# print(s.orgn)\n",
    "\n",
    "# #Testing wedge\n",
    "# s2 = Sphere(2)\n",
    "# s3 = Sphere(3)\n",
    "# p = s2.wedge(s3)\n",
    "# print(p.orgn)\n",
    "\n",
    "# #Testing join\n",
    "# s2 = Sphere(2)\n",
    "# s3 = Sphere(3)\n",
    "# p = s2.join(s3)\n",
    "# print(p.orgn)\n",
    "\n",
    "\n",
    "# #Testing smash product\n",
    "# s2 = Sphere(2)\n",
    "# s3 = Sphere(3)\n",
    "# p = s2.smash_product(s3)\n",
    "# print(p.orgn)\n",
    "\n",
    "# #Testing classifying space\n",
    "# c = l2.classifying_space()\n",
    "# print(c.orgn)\n",
    "\n",
    "#__tnsr_prdc__ = EclObject(\"tnsr-prdc\")\n",
    "#__sphere__ = EclObject(\"sphere\")\n",
    "#__tnsr_prdc__(__sphere__(2),__sphere__(3))"
   ]
  },
  {
   "cell_type": "code",
   "execution_count": 2,
   "metadata": {},
   "outputs": [],
   "source": [
    "from sage.interfaces.kenzo import *\n",
    "__echcm__ = EclObject(\"echcm\")\n",
    "__chcm_mat__ = EclObject(\"chcm-mat\")\n",
    "__homologie__ = EclObject(\"homologie\")\n",
    "__convertmatrice__ = EclObject(\"convertmatrice\")\n",
    "__convertarray__ = EclObject(\"convertarray\")"
   ]
  },
  {
   "cell_type": "code",
   "execution_count": 3,
   "metadata": {},
   "outputs": [],
   "source": [
    "from multiprocessing import Pool\n",
    "import multiprocessing\n",
    "\n",
    "def __chcm_mat2__(KenzoChainComplex, n):\n",
    "    echcm1 = __echcm__(KenzoChainComplex._kenzo)\n",
    "    m = __chcm_mat__(echcm1, n)\n",
    "    return(k2s_matrix(__convertmatrice__(m)))\n",
    "    \n",
    "\n",
    "def chm_mat_parallel3(l):\n",
    "    pool = Pool(2)\n",
    "    final = pool.starmap(__chcm_mat2__, l)\n",
    "    return final"
   ]
  },
  {
   "cell_type": "code",
   "execution_count": 4,
   "metadata": {},
   "outputs": [],
   "source": [
    "import time\n",
    "\n",
    "def homology_parallel(KenzoChainComplex, n):\n",
    "    m1, m2 = chm_mat_parallel3([(KenzoChainComplex, n), (KenzoChainComplex, n+1)])\n",
    "\n",
    "    #Convert again to sparse Kenzo matrix (matrice). Es decir, el inverso de __convertmatrice__.\n",
    "    \n",
    "    m1 = __convertarray__(s2k_matrix(m1))\n",
    "    m2 = __convertarray__(s2k_matrix(m2))\n",
    "    \n",
    "    homology = __homologie__(m1, m2)\n",
    "    lhomomology = [i for i in EclListIterator(homology)]\n",
    "    res = []\n",
    "    for component in lhomomology:\n",
    "        pair = [i for i in EclListIterator(component)]\n",
    "        res.append(pair[0].python())\n",
    "    return HomologyGroup(len(res), ZZ, res)"
   ]
  },
  {
   "cell_type": "markdown",
   "metadata": {},
   "source": [
    "## MULTIPROCESSING ANA (COLUMNAS)"
   ]
  },
  {
   "cell_type": "code",
   "execution_count": 5,
   "metadata": {},
   "outputs": [],
   "source": [
    "import time\n",
    "def __chcm_mat_3__(KenzoChainComplex, n, thread, threads):\n",
    "    ecl_eval(\"\"\"(DEFUN CHCM-MAT-COLUMNS (chcm n first-index last-index)\n",
    "  (declare\n",
    "   (type chain-complex chcm)\n",
    "   (type fixnum n))\n",
    "  (let* ((all-sorc (basis chcm n))\n",
    "        (sorc (subseq all-sorc first-index last-index))\n",
    "        (trgt (basis chcm (1- n)))\n",
    "        (cmpr (cmpr chcm)))\n",
    "    (declare\n",
    "     (list sorc trgt)\n",
    "     (type cmprf cmpr))\n",
    "    (let ((sorcl (length sorc))\n",
    "          (mat (creer-matrice (length trgt) (length sorc)))\n",
    "          (test #'(lambda (gnrt1 gnrt2)\n",
    "                    (eq (funcall cmpr gnrt1 gnrt2) :equal))))\n",
    "      (declare\n",
    "       (type fixnum sorcl)\n",
    "       (type matrice mat)\n",
    "       (function test))\n",
    "      (do ((i 1 (1+ i))\n",
    "           (mark sorc (cdr mark)))\n",
    "          ((endp mark))\n",
    "        (declare\n",
    "         (type fixnum i)\n",
    "         (list mark))\n",
    "          (maj-colonne mat i\n",
    "             (mapcar #'(lambda (term)\n",
    "                          (declare (type term term))\n",
    "                          (list\n",
    "                             (1+ (position (gnrt term) trgt :test test))\n",
    "                             (cffc term)))\n",
    "               (cmbn-list (? chcm n (car mark))))))\n",
    "       mat)))\"\"\")\n",
    "    __chcm_mat_columns__ = EclObject(\"CHCM-MAT-COLUMNS\")\n",
    "    echcm1 = __echcm__(KenzoChainComplex._kenzo)\n",
    "    #Number of cols = (setf ncol (length (basis echcm n)))\n",
    "    __length__ = EclObject(\"length\")\n",
    "    __basis__ = EclObject(\"basis_aux1\")\n",
    "    ncols = __length__(__basis__(echcm1,n)).python()\n",
    "        \n",
    "    interval = max(int(ncols) // threads, 1)\n",
    "    if thread < ncols:\n",
    "        if thread + 1 == threads:\n",
    "            m = __chcm_mat_columns__(echcm1, n, thread * interval, ncols)\n",
    "        else:\n",
    "            m = __chcm_mat_columns__(echcm1, n, thread * interval, (thread + 1)*interval)        \n",
    "        #print(k2s_matrix(__convertmatrice__(m)))\n",
    "        return(k2s_matrix(__convertmatrice__(m)))\n",
    "    else:\n",
    "        return None\n",
    "    \n",
    "\n",
    "def chm_mat_parallel_columns(l):\n",
    "    pool = Pool()\n",
    "    final = pool.starmap(__chcm_mat_3__, l)\n",
    "    return final"
   ]
  },
  {
   "cell_type": "code",
   "execution_count": 6,
   "metadata": {},
   "outputs": [],
   "source": [
    "def homology_parallel_columns(KenzoChainComplex, n, threads = multiprocessing.cpu_count()):\n",
    "    \n",
    "    #TODO: One workers list with all tasks (this would permit more parallelism)\n",
    "    workers = zip([KenzoChainComplex]*threads,[n]*threads,range(threads), [threads]*threads)    \n",
    "    cols1 = chm_mat_parallel_columns(workers)\n",
    "    \n",
    "    workers = zip([KenzoChainComplex]*threads,[n+1]*threads,range(threads), [threads]*threads)    \n",
    "    cols2 = chm_mat_parallel_columns(workers)\n",
    "    \n",
    "    cols1 = [item for item in cols1 if item is not None] #Delete None elements    \n",
    "    m1 = cols1[0]\n",
    "    for c in cols1[1:]: #Skip the first (it is already m1)    \n",
    "        #if c is not None:\n",
    "        m1 = m1.augment(c)         \n",
    "  \n",
    "    cols2 = [item for item in cols2 if item is not None] #Delete None elements\n",
    "    m2 = cols2[0]\n",
    "    for c in cols2[1:]: #Skip the first (it is already m2)    \n",
    "        #if c is not None:\n",
    "        m2 = m2.augment(c)         \n",
    "            \n",
    "    #Convert again to sparse Kenzo matrix (matrice). Es decir, el inverso de __convertmatrice__.\n",
    "    \n",
    "    m1 = __convertarray__(s2k_matrix(m1))\n",
    "    m2 = __convertarray__(s2k_matrix(m2))\n",
    "    \n",
    "    homology = __homologie__(m1, m2)\n",
    "    lhomomology = [i for i in EclListIterator(homology)]\n",
    "    res = []\n",
    "    for component in lhomomology:\n",
    "        pair = [i for i in EclListIterator(component)]\n",
    "        res.append(pair[0].python())\n",
    "    return HomologyGroup(len(res), ZZ, res)"
   ]
  },
  {
   "cell_type": "code",
   "execution_count": 7,
   "metadata": {},
   "outputs": [],
   "source": [
    "KenzoChainComplex.homology_parallel=homology_parallel\n",
    "KenzoChainComplex.homology_parallel_columns=homology_parallel_columns"
   ]
  },
  {
   "cell_type": "code",
   "execution_count": 8,
   "metadata": {},
   "outputs": [
    {
     "name": "stdout",
     "output_type": "stream",
     "text": [
      "Available CPUs: 8\n",
      "Z\n",
      "Time parallelism (columns version) 92.53180241584778\n",
      "Z\n",
      "Time parallelism (basic version) 102.87789940834045\n",
      "Z\n",
      "Time NO parallelism 114.16639590263367\n"
     ]
    }
   ],
   "source": [
    "e3 = EilenbergMacLaneSpace(ZZ, 3)\n",
    "\n",
    "s1 = Sphere(3)\n",
    "e = s1.cartesian_product(e3.loop_space())\n",
    "\n",
    "print(\"Available CPUs:\", multiprocessing.cpu_count())\n",
    "\n",
    "inicial = time.time()\n",
    "H = e.homology_parallel_columns(10)\n",
    "print(H)\n",
    "print(\"Time parallelism (columns version)\", time.time() - inicial)\n",
    "\n",
    "inicial = time.time()\n",
    "H = e.homology_parallel(10)\n",
    "print(H)\n",
    "print(\"Time parallelism (basic version)\", time.time() - inicial)\n",
    "\n",
    "inicial = time.time()\n",
    "H = e.homology(10)\n",
    "print(H)\n",
    "print(\"Time NO parallelism\", time.time() - inicial)"
   ]
  },
  {
   "cell_type": "code",
   "execution_count": 9,
   "metadata": {},
   "outputs": [
    {
     "name": "stdout",
     "output_type": "stream",
     "text": [
      "Available CPUs: 8\n",
      "C3 x C5\n",
      "Time parallelism (columns version) 2.0263073444366455\n",
      "C3 x C5\n",
      "Time parallelism (basic version) 3.0132884979248047\n",
      "C3 x C5\n",
      "Time NO parallelism 2.930284023284912\n"
     ]
    }
   ],
   "source": [
    "\n",
    "kz3 = EilenbergMacLaneSpace(ZZ, 3)\n",
    "kzp_6 = EilenbergMacLaneSpace(AdditiveAbelianGroup([5]), 7)\n",
    "\n",
    "e = kz3.cartesian_product(kzp_6)\n",
    "\n",
    "print(\"Available CPUs:\", multiprocessing.cpu_count())\n",
    "\n",
    "inicial = time.time()\n",
    "H = e.homology_parallel_columns(10)\n",
    "print(H)\n",
    "print(\"Time parallelism (columns version)\", time.time() - inicial)\n",
    "\n",
    "inicial = time.time()\n",
    "H = e.homology_parallel(10)\n",
    "print(H)\n",
    "print(\"Time parallelism (basic version)\", time.time() - inicial)\n",
    "\n",
    "inicial = time.time()\n",
    "H = e.homology(10)\n",
    "print(H)\n",
    "print(\"Time NO parallelism\", time.time() - inicial)"
   ]
  },
  {
   "cell_type": "code",
   "execution_count": 10,
   "metadata": {},
   "outputs": [
    {
     "name": "stdout",
     "output_type": "stream",
     "text": [
      "Available CPUs: 8\n",
      "C2\n",
      "Time parallelism (columns version) 109.7536051273346\n",
      "C2\n",
      "Time parallelism (basic version) 325.527046918869\n",
      "C2\n",
      "Time NO parallelism 330.58279490470886\n"
     ]
    }
   ],
   "source": [
    "\n",
    "kz3 = EilenbergMacLaneSpace(ZZ, 3)\n",
    "kzp_6 = EilenbergMacLaneSpace(AdditiveAbelianGroup([5]), 7)\n",
    "\n",
    "e = kz3.cartesian_product(kzp_6)\n",
    "\n",
    "print(\"Available CPUs:\", multiprocessing.cpu_count())\n",
    "\n",
    "inicial = time.time()\n",
    "H = e.homology_parallel_columns(12)\n",
    "print(H)\n",
    "print(\"Time parallelism (columns version)\", time.time() - inicial)\n",
    "\n",
    "inicial = time.time()\n",
    "H = e.homology_parallel(12)\n",
    "print(H)\n",
    "print(\"Time parallelism (basic version)\", time.time() - inicial)\n",
    "\n",
    "inicial = time.time()\n",
    "H = e.homology(12)\n",
    "print(H)\n",
    "print(\"Time NO parallelism\", time.time() - inicial)"
   ]
  },
  {
   "cell_type": "markdown",
   "metadata": {},
   "source": [
    "## EXPERIMENTS"
   ]
  },
  {
   "cell_type": "code",
   "execution_count": 11,
   "metadata": {},
   "outputs": [],
   "source": [
    "f = open(\"benchmarks_kz3_kzp6.txt\", \"w\")\n",
    "f.write(\"Dimension;Time_parallelism_columns;Time_parallelism_basic;Time_no_parallelism\\n\")\n",
    "for i in range(7,14):\n",
    "    ecl_eval(\"(cat-init)\") #To avoid caching computations in Kenzo\n",
    "    \n",
    "    kz3 = EilenbergMacLaneSpace(ZZ, 3)\n",
    "    kzp_6 = EilenbergMacLaneSpace(AdditiveAbelianGroup([5]), 7)\n",
    "    e = kz3.cartesian_product(kzp_6)\n",
    "\n",
    "    inicial_paralel_columns = time.time()\n",
    "    H = e.homology_parallel_columns(i)\n",
    "    final_paralel_columns = time.time() - inicial_paralel_columns\n",
    "\n",
    "    inicial_parallel = time.time()\n",
    "    H = e.homology_parallel(i)\n",
    "    final_parallel = time.time() - inicial_parallel\n",
    "    \n",
    "\n",
    "    inicial_no_parallelism = time.time()\n",
    "    H = e.homology(i)\n",
    "    final_no_parallelism = time.time() - inicial_no_parallelism\n",
    "    \n",
    "    f.write(str(i) + \";\" + str(final_paralel_columns) + \";\" + str(final_parallel) + \";\" + str(final_no_parallelism) + \"\\n\")\n",
    "    f.flush()\n",
    "    \n",
    "f.close()"
   ]
  },
  {
   "cell_type": "code",
   "execution_count": null,
   "metadata": {},
   "outputs": [],
   "source": [
    "f = open(\"benchmarks_kz3_loop.txt\", \"w\")\n",
    "f.write(\"Dimension;Time_parallelism_columns;Time_parallelism_basic;Time_no_parallelism\\n\")\n",
    "for i in range(3,11):\n",
    "    ecl_eval(\"(cat-init)\") #To avoid caching computations in Kenzo\n",
    "    \n",
    "    e3 = EilenbergMacLaneSpace(ZZ, 3)\n",
    "    s1 = Sphere(3)\n",
    "    e = s1.cartesian_product(e3.loop_space())\n",
    "\n",
    "    inicial_paralel_columns = time.time()\n",
    "    H = e.homology_parallel_columns(i)\n",
    "    final_paralel_columns = time.time() - inicial_paralel_columns\n",
    "\n",
    "    inicial_parallel = time.time()\n",
    "    H = e.homology_parallel(i)\n",
    "    final_parallel = time.time() - inicial_parallel\n",
    "    \n",
    "\n",
    "    inicial_no_parallelism = time.time()\n",
    "    H = e.homology(i)\n",
    "    final_no_parallelism = time.time() - inicial_no_parallelism\n",
    "    \n",
    "    f.write(str(i) + \";\" + str(final_paralel_columns) + \";\" + str(final_parallel) + \";\" + str(final_no_parallelism) + \"\\n\")\n",
    "    f.flush()\n",
    "    \n",
    "f.close()"
   ]
  },
  {
   "cell_type": "code",
   "execution_count": null,
   "metadata": {},
   "outputs": [],
   "source": [
    "f = open(\"benchmarks_join_wedge.txt\", \"w\")\n",
    "f.write(\"Dimension;Time_parallelism_columns;Time_parallelism_basic;Time_no_parallelism\\n\")\n",
    "for i in range(3,8):\n",
    "    ecl_eval(\"(cat-init)\") #To avoid caching computations in Kenzo\n",
    "        \n",
    "    s2 = Sphere(2)\n",
    "    s3 = Sphere(3)\n",
    "    s4 = Sphere(4)\n",
    "    s5 = Sphere(5)\n",
    "    l2 = s2.wedge(s3)\n",
    "    e = l2.join(l2.loop_space())\n",
    "\n",
    "    inicial_paralel_columns = time.time()\n",
    "    H = e.homology_parallel_columns(i)\n",
    "    final_paralel_columns = time.time() - inicial_paralel_columns\n",
    "\n",
    "    inicial_parallel = time.time()\n",
    "    H = e.homology_parallel(i)\n",
    "    final_parallel = time.time() - inicial_parallel\n",
    "    \n",
    "\n",
    "    inicial_no_parallelism = time.time()\n",
    "    H = e.homology(i)\n",
    "    final_no_parallelism = time.time() - inicial_no_parallelism\n",
    "    \n",
    "    f.write(str(i) + \";\" + str(final_paralel_columns) + \";\" + str(final_parallel) + \";\" + str(final_no_parallelism) + \"\\n\")\n",
    "    f.flush()\n",
    "    \n",
    "f.close()"
   ]
  },
  {
   "cell_type": "markdown",
   "metadata": {},
   "source": [
    "## PROFILING"
   ]
  },
  {
   "cell_type": "code",
   "execution_count": 8,
   "metadata": {},
   "outputs": [],
   "source": [
    "import time\n",
    "\n",
    "def homology_times(self, n):\n",
    "        r\"\"\"\n",
    "        Return the ``n``'th homology group of the chain complex associated to this\n",
    "        kenzo object.\n",
    "\n",
    "        INPUT:\n",
    "\n",
    "        - ``n`` -- the dimension in which compute the homology\n",
    "\n",
    "        OUTPUT:\n",
    "\n",
    "        - An homology group.\n",
    "\n",
    "        EXAMPLES::\n",
    "\n",
    "            sage: from sage.interfaces.kenzo import Sphere   # optional - kenzo\n",
    "            sage: s2 = Sphere(2)                             # optional - kenzo\n",
    "            sage: s2                                         # optional - kenzo\n",
    "            [K1 Simplicial-Set]\n",
    "            sage: s2.homology(2)                             # optional - kenzo\n",
    "            Z\n",
    "        \"\"\"\n",
    "        inicial = time.time()\n",
    "        echcm1 = __echcm__(self._kenzo)\n",
    "        inicial_chcm_mat = time.time()\n",
    "        m1 = __chcm_mat__(echcm1, n)\n",
    "        final_m1 = time.time() - inicial_chcm_mat\n",
    "        inicial_m2 = time.time()\n",
    "        m2 = __chcm_mat__(echcm1, n + 1)\n",
    "        final_m2 = time.time() - inicial_m2\n",
    "        final_chcm_mat= time.time() - inicial_chcm_mat\n",
    "        print(\"FINAL inicial_chcm_mat\", final_chcm_mat)\n",
    "        print(\"m1\", final_m1)\n",
    "        print(\"m2\", final_m2)\n",
    "        homology = __homologie__(m1, m2)\n",
    "        lhomomology = [i for i in EclListIterator(homology)]\n",
    "        res = []\n",
    "        for component in lhomomology:\n",
    "            pair = [i for i in EclListIterator(component)]\n",
    "            res.append(pair[0].python())\n",
    "        final_total = time.time() - inicial        \n",
    "        print(\"FINAL Total\", final_total)\n",
    "        print(\"Porcentaje\", final_chcm_mat/final_total)\n",
    "        return HomologyGroup(len(res), ZZ, res)"
   ]
  },
  {
   "cell_type": "code",
   "execution_count": null,
   "metadata": {},
   "outputs": [],
   "source": [
    "%prun  _=e3.homology_times(13)"
   ]
  },
  {
   "cell_type": "code",
   "execution_count": 9,
   "metadata": {},
   "outputs": [
    {
     "name": "stdout",
     "output_type": "stream",
     "text": [
      "FINAL inicial_chcm_mat 15.598355531692505\n",
      "m1 3.3446266651153564\n",
      "m2 12.253724813461304\n",
      "FINAL Total 15.612226009368896\n",
      "Porcentaje 0.9991115631000943\n"
     ]
    },
    {
     "data": {
      "text/plain": [
       "C2"
      ]
     },
     "execution_count": 9,
     "metadata": {},
     "output_type": "execute_result"
    }
   ],
   "source": [
    "KenzoChainComplex.homology_times=homology_times\n",
    "e3 = EilenbergMacLaneSpace(ZZ, 3)\n",
    "e3.homology_times(12)\n"
   ]
  },
  {
   "cell_type": "code",
   "execution_count": 42,
   "metadata": {},
   "outputs": [],
   "source": [
    "e3 = EilenbergMacLaneSpace(ZZ, 3)\n",
    "e3.homology_times(10)"
   ]
  },
  {
   "cell_type": "code",
   "execution_count": null,
   "metadata": {},
   "outputs": [],
   "source": []
  }
 ],
 "metadata": {
  "kernelspec": {
   "display_name": "SageMath 9.4",
   "language": "sage",
   "name": "sagemath"
  },
  "language_info": {
   "codemirror_mode": {
    "name": "ipython",
    "version": 3
   },
   "file_extension": ".py",
   "mimetype": "text/x-python",
   "name": "python",
   "nbconvert_exporter": "python",
   "pygments_lexer": "ipython3",
   "version": "3.9.5"
  }
 },
 "nbformat": 4,
 "nbformat_minor": 4
}
